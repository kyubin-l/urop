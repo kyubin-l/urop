{
  "nbformat": 4,
  "nbformat_minor": 0,
  "metadata": {
    "accelerator": "GPU",
    "colab": {
      "name": "duffing_oscillator.ipynb",
      "provenance": [],
      "collapsed_sections": [],
      "authorship_tag": "ABX9TyMwKl/a3E4rjeJVhGQRlyo8",
      "include_colab_link": true
    },
    "kernelspec": {
      "display_name": "Python 3",
      "name": "python3"
    },
    "language_info": {
      "name": "python"
    }
  },
  "cells": [
    {
      "cell_type": "markdown",
      "metadata": {
        "id": "view-in-github",
        "colab_type": "text"
      },
      "source": [
        "<a href=\"https://colab.research.google.com/github/kyubin-l/urop/blob/main/duffing_oscillator.ipynb\" target=\"_parent\"><img src=\"https://colab.research.google.com/assets/colab-badge.svg\" alt=\"Open In Colab\"/></a>"
      ]
    },
    {
      "cell_type": "code",
      "metadata": {
        "colab": {
          "base_uri": "https://localhost:8080/"
        },
        "id": "WVSdc4D9z9VR",
        "outputId": "f42327ce-ed6a-475e-df3d-a3a238deeefd"
      },
      "source": [
        "# Connect to Drive\n",
        "\n",
        "from google.colab import drive\n",
        "drive.mount('/content/gdrive')"
      ],
      "execution_count": null,
      "outputs": [
        {
          "output_type": "stream",
          "name": "stdout",
          "text": [
            "Mounted at /content/gdrive\n"
          ]
        }
      ]
    },
    {
      "cell_type": "code",
      "metadata": {
        "colab": {
          "base_uri": "https://localhost:8080/",
          "height": 35
        },
        "id": "COLz6EPx0Eqx",
        "outputId": "d7e3e185-da1d-4d02-a8d0-dbd192d62ce8"
      },
      "source": [
        "import os\n",
        "\n",
        "os.chdir('/content/gdrive/MyDrive/urop_copy')\n",
        "os.getcwd()"
      ],
      "execution_count": null,
      "outputs": [
        {
          "output_type": "execute_result",
          "data": {
            "application/vnd.google.colaboratory.intrinsic+json": {
              "type": "string"
            },
            "text/plain": [
              "'/content/gdrive/MyDrive/urop_copy'"
            ]
          },
          "metadata": {},
          "execution_count": 2
        }
      ]
    },
    {
      "cell_type": "code",
      "metadata": {
        "id": "PaKqUbTkz1Po"
      },
      "source": [
        "# Import packages\n",
        "\n",
        "import tensorflow as tf\n",
        "import numpy as np\n",
        "import math\n",
        "from scipy.io import loadmat\n",
        "\n",
        "from tensorflow.keras.models import Model\n",
        "from tensorflow.keras.layers import Layer, Softmax, Conv1D, Add"
      ],
      "execution_count": null,
      "outputs": []
    },
    {
      "cell_type": "code",
      "metadata": {
        "id": "IAvxRUjIjnWN"
      },
      "source": [
        "%run './CNNfunctions.py'"
      ],
      "execution_count": null,
      "outputs": []
    },
    {
      "cell_type": "code",
      "metadata": {
        "id": "G_k9gdAhEQOD"
      },
      "source": [
        "# class CNN_Skip_One(Layer):\n",
        "\n",
        "#     def __init__(self, **kwargs):\n",
        "#         super(CNN_Skip_One, self).__init__(**kwargs)\n",
        "\n",
        "\n",
        "#     def build(self, input_shape, kernel_size=1, activation='relu'):\n",
        "#         num_filters = input_shape[-1]\n",
        "#         self.conv_1 = Conv1D(num_filters, kernel_size=kernel_size, padding='valid', activation=activation)\n",
        "\n",
        "\n",
        "#     def call(self, inputs):\n",
        "#         h = self.conv_1(inputs)\n",
        "#         g = self.conv_1(h)\n",
        "#         h = self.conv_1(g)\n",
        "#         h = add([h, g])\n",
        "#         h = tf.nn.relu(h)\n",
        "\n",
        "\n",
        "# class MyModel(Model):\n",
        "#     def __init__(self, **kwargs):\n",
        "#         super(MyModel, self).__init__(**kwargs)\n",
        "#         self.conv1d = CNN_Skip_One()\n",
        "    \n",
        "#     def call(self, inputs, kernel_width=1, activation='relu'):\n",
        "#         x = self.conv1d(inputs)\n",
        "#         x = self.conv1d(x)\n",
        "#         return x"
      ],
      "execution_count": null,
      "outputs": []
    },
    {
      "cell_type": "code",
      "metadata": {
        "id": "he35wRl4jPTp"
      },
      "source": [
        "# Define optimization settings\n",
        "Data = {'stem' : './duffing_data/white_noise/nonlinear_stiffness_',\n",
        "        'train_files' : [1,3,4,6,7,9,11,5,10,15,20],#list(range(1,5)),\n",
        "        'test_files' : [2,8,13,16,19],\n",
        "        'val_files' : [12,14,17,18], \n",
        "        'model_save_path' : './saved_models/model4_s_1',\n",
        "        'sampling_frequency' : 4096}  # 2**12\n",
        "\n",
        "Opt = {'window_length' : 2**13,\n",
        "       'freq_range' : np.array([1,200]), # Setting the frequency to the nyquist frequency isn't that good because a lot of data points with unit coherence at high frequency\n",
        "       'learning_rate' : 0.005,\n",
        "       'num_epochs' : 100,\n",
        "       'causality' : 1000,\n",
        "       'batch_size' : 2} #len(Data['train_files'])}"
      ],
      "execution_count": null,
      "outputs": []
    },
    {
      "cell_type": "code",
      "metadata": {
        "colab": {
          "base_uri": "https://localhost:8080/"
        },
        "id": "7ABxdEtsbb9D",
        "outputId": "584adee4-d9f0-4a38-a2ea-dfee8d3b200f"
      },
      "source": [
        "# Define network hyperparameters\n",
        "\n",
        "Hpar = {'layers' : 7,\n",
        "        'skips' : 1,\n",
        "        'activation' : 'tanh',\n",
        "        'kernel_width' :3}\n",
        "\n",
        "Hpar['channels'] = np.array([i*6 for i in range(1,Hpar['layers'])])\n",
        "# Hpar['channels'] = np.array([8, 16, 24, 32, 40, 24, 32, 16, 24, 8])\n",
        "#Hpar['channels'] = np.array([8,8,8,40,8,40,40,16,16])\n",
        "#Hpar['channels'] = np.ones((9),dtype='int32')*32\n",
        "\n",
        "Opt['freq_ind'] = np.rint(Opt['freq_range'] / (Data['sampling_frequency'] / Opt['window_length'])).astype(int)\n",
        "\n",
        "\n",
        "\n",
        "if Hpar['skips'] == 2:\n",
        "  Hpar['receptive_field'] = Hpar['kernel_width']**(math.floor(Hpar['layers']/2)+1) - 1\n",
        "else:\n",
        "  Hpar['receptive_field'] = Hpar['kernel_width']**(Hpar['layers']-1)\n",
        "\n",
        "print('Receptive field is {:.3f} s'.format(Hpar['receptive_field']/Data['sampling_frequency']))"
      ],
      "execution_count": null,
      "outputs": [
        {
          "output_type": "stream",
          "name": "stdout",
          "text": [
            "Receptive field is 0.178 s\n"
          ]
        }
      ]
    },
    {
      "cell_type": "code",
      "metadata": {
        "id": "W3sYqL1Jo-lX"
      },
      "source": [
        "def LoadData(file_numbers, stem, receptive_field):\n",
        "\n",
        "  for f in range(len(file_numbers)):\n",
        "\n",
        "    filepath = '%(stem)s%(file_number)i.mat' % {\"stem\": stem, \"file_number\": file_numbers[f]}\n",
        "    data = loadmat(filepath)\n",
        "\n",
        "    y = data['x']\n",
        "    x = data['F']\n",
        "\n",
        "    if f == 0:\n",
        "      inputs = x[np.newaxis,:,:]\n",
        "      outputs = y[np.newaxis,receptive_field-1:,0]\n",
        "\n",
        "    else:\n",
        "      inputs = np.concatenate((inputs, x[np.newaxis,:,:]), axis=0)\n",
        "      outputs = np.concatenate((outputs, y[np.newaxis,receptive_field-1:,0]), axis=0)\n",
        "\n",
        "  inputs = tf.constant(inputs, dtype='float32')\n",
        "  outputs = tf.constant(outputs, dtype='float32')\n",
        "\n",
        "  return inputs, outputs"
      ],
      "execution_count": null,
      "outputs": []
    },
    {
      "cell_type": "code",
      "metadata": {
        "colab": {
          "base_uri": "https://localhost:8080/",
          "height": 287
        },
        "id": "jMsSv3fjpZM0",
        "outputId": "1f1dc686-280f-4dca-e771-355aef7d5710"
      },
      "source": [
        "# Loading in data, plotting coherence of a sample dataset\n",
        "train_inputs, train_outputs = LoadData(Data['train_files'], Data['stem'], Hpar['receptive_field'])\n",
        "val_inputs, val_outputs = LoadData(Data['val_files'], Data['stem'], Hpar['receptive_field'])\n",
        "\n",
        "F = train_inputs[0,Hpar['receptive_field']-1:,:]\n",
        "x = train_outputs[0,:]\n",
        "\n",
        "Cyx, faxis = Coherence(F, x, Opt['window_length'], Data['sampling_frequency'])\n",
        "\n",
        "PlotCoherence(faxis, Cyx, Opt['freq_range'], [])\n",
        "Hpar['input_shape'] = train_inputs[0,...].shape"
      ],
      "execution_count": null,
      "outputs": [
        {
          "output_type": "display_data",
          "data": {
            "image/png": "[encoded data removed]",
            "text/plain": [
              "<Figure size 432x288 with 1 Axes>"
            ]
          },
          "metadata": {
            "needs_background": "light"
          }
        }
      ]
    },
    {
      "cell_type": "code",
      "metadata": {
        "id": "SHVXAH9YtCnC"
      },
      "source": [
        "train_dataset = tf.data.Dataset.from_tensor_slices((train_inputs, train_outputs))\n",
        "val_dataset = tf.data.Dataset.from_tensor_slices((val_inputs, val_outputs))"
      ],
      "execution_count": null,
      "outputs": []
    },
    {
      "cell_type": "code",
      "metadata": {
        "colab": {
          "base_uri": "https://localhost:8080/"
        },
        "id": "lYLUXVNzz7jV",
        "outputId": "d6c96192-cb9c-4431-c71e-d860f53e34b6"
      },
      "source": [
        "model = BuildModel(Hpar)"
      ],
      "execution_count": null,
      "outputs": [
        {
          "output_type": "stream",
          "name": "stdout",
          "text": [
            "Model: \"model\"\n",
            "__________________________________________________________________________________________________\n",
            "Layer (type)                    Output Shape         Param #     Connected to                     \n",
            "==================================================================================================\n",
            "input_1 (InputLayer)            [(None, 819201, 1)]  0                                            \n",
            "__________________________________________________________________________________________________\n",
            "conv1d (Conv1D)                 (None, 819199, 6)    24          input_1[0][0]                    \n",
            "__________________________________________________________________________________________________\n",
            "conv1d_1 (Conv1D)               (None, 819193, 12)   228         conv1d[0][0]                     \n",
            "__________________________________________________________________________________________________\n",
            "conv1d_2 (Conv1D)               (None, 819193, 12)   108         input_1[0][0]                    \n",
            "__________________________________________________________________________________________________\n",
            "add (Add)                       (None, 819193, 12)   0           conv1d_1[0][0]                   \n",
            "                                                                 conv1d_2[0][0]                   \n",
            "__________________________________________________________________________________________________\n",
            "activation (Activation)         (None, 819193, 12)   0           add[0][0]                        \n",
            "__________________________________________________________________________________________________\n",
            "conv1d_3 (Conv1D)               (None, 819175, 18)   666         activation[0][0]                 \n",
            "__________________________________________________________________________________________________\n",
            "conv1d_4 (Conv1D)               (None, 819121, 24)   1320        conv1d_3[0][0]                   \n",
            "__________________________________________________________________________________________________\n",
            "conv1d_5 (Conv1D)               (None, 819121, 24)   2592        activation[0][0]                 \n",
            "__________________________________________________________________________________________________\n",
            "add_1 (Add)                     (None, 819121, 24)   0           conv1d_4[0][0]                   \n",
            "                                                                 conv1d_5[0][0]                   \n",
            "__________________________________________________________________________________________________\n",
            "activation_1 (Activation)       (None, 819121, 24)   0           add_1[0][0]                      \n",
            "__________________________________________________________________________________________________\n",
            "conv1d_6 (Conv1D)               (None, 818959, 30)   2190        activation_1[0][0]               \n",
            "__________________________________________________________________________________________________\n",
            "conv1d_7 (Conv1D)               (None, 818473, 36)   3276        conv1d_6[0][0]                   \n",
            "__________________________________________________________________________________________________\n",
            "conv1d_8 (Conv1D)               (None, 818473, 36)   7776        activation_1[0][0]               \n",
            "__________________________________________________________________________________________________\n",
            "add_2 (Add)                     (None, 818473, 36)   0           conv1d_7[0][0]                   \n",
            "                                                                 conv1d_8[0][0]                   \n",
            "__________________________________________________________________________________________________\n",
            "activation_2 (Activation)       (None, 818473, 36)   0           add_2[0][0]                      \n",
            "__________________________________________________________________________________________________\n",
            "conv1d_9 (Conv1D)               (None, 818473, 1)    37          activation_2[0][0]               \n",
            "==================================================================================================\n",
            "Total params: 18,217\n",
            "Trainable params: 18,217\n",
            "Non-trainable params: 0\n",
            "__________________________________________________________________________________________________\n"
          ]
        }
      ]
    },
    {
      "cell_type": "code",
      "metadata": {
        "id": "08nRkV6PjQRq"
      },
      "source": [
        "input = model.input\n",
        "output = model.output\n",
        "layers = model.layers\n",
        "outputs = [layer.output for layer in layers]"
      ],
      "execution_count": null,
      "outputs": []
    },
    {
      "cell_type": "code",
      "metadata": {
        "id": "fnwNv0s4lYAl"
      },
      "source": [
        "x = Conv1D(10, 1, kernel_initializer=tf.keras.initializers.HeUniform(), activation='linear', use_bias=True)(outputs[-2])\n",
        "# x = Conv1D(5, 1, kernel_initializer=tf.keras.initializers.HeUniform(), activation='linear', use_bias=True)(x)\n",
        "output = Conv1D(1, 1, kernel_initializer=tf.keras.initializers.HeUniform(), activation='linear', use_bias=True)(x)"
      ],
      "execution_count": null,
      "outputs": []
    },
    {
      "cell_type": "code",
      "metadata": {
        "id": "cgrsEZjmmw8_"
      },
      "source": [
        "model_new = Model(inputs=input, outputs=output)\n",
        "model=model_new"
      ],
      "execution_count": null,
      "outputs": []
    },
    {
      "cell_type": "code",
      "metadata": {
        "colab": {
          "base_uri": "https://localhost:8080/",
          "height": 1000
        },
        "id": "3iyuVIuSm-dT",
        "outputId": "a0aae822-161b-4e80-80d1-552f5878adaa"
      },
      "source": [
        "tf.keras.utils.plot_model(model,show_shapes=False)"
      ],
      "execution_count": null,
      "outputs": [
        {
          "output_type": "execute_result",
          "data": {
            "image/png": "[encoded data removed]",
            "text/plain": [
              "<IPython.core.display.Image object>"
            ]
          },
          "metadata": {},
          "execution_count": 15
        }
      ]
    },
    {
      "cell_type": "code",
      "metadata": {
        "id": "QYQN6q_tlqyH"
      },
      "source": [
        "model.compile()\n",
        "optimizer = tf.keras.optimizers.Adam(learning_rate=Opt['learning_rate'])"
      ],
      "execution_count": null,
      "outputs": []
    },
    {
      "cell_type": "code",
      "metadata": {
        "colab": {
          "base_uri": "https://localhost:8080/"
        },
        "id": "ch_fCTFIs21P",
        "outputId": "67b7537b-e212-48b7-cf2d-0774da9aac20"
      },
      "source": [
        "results = TrainModel(model, optimizer, train_dataset, val_dataset, Opt, len(Data['train_files']) , Data['model_save_path']) # Include some sort of validation?"
      ],
      "execution_count": null,
      "outputs": [
        {
          "output_type": "stream",
          "name": "stdout",
          "text": [
            "Epoch 000: Loss: 179.744, Cpy_avg: 0.548, Val Loss: 130.379, Val Cpy_avg: 0.672\n",
            "INFO:tensorflow:Assets written to: ./saved_models/model4_s_1/assets\n",
            "Epoch loss improved to 179.744. Saving model. \n"
          ]
        },
        {
          "output_type": "stream",
          "name": "stderr",
          "text": [
            "/usr/local/lib/python3.7/dist-packages/keras/utils/generic_utils.py:497: CustomMaskWarning: Custom mask layers require a config and must override get_config. When loading, the custom mask layer must be passed to the custom_objects argument.\n",
            "  category=CustomMaskWarning)\n"
          ]
        },
        {
          "output_type": "stream",
          "name": "stdout",
          "text": [
            "Epoch 001: Loss: 128.182, Cpy_avg: 0.678, Val Loss: 123.847, Val Cpy_avg: 0.689\n",
            "INFO:tensorflow:Assets written to: ./saved_models/model4_s_1/assets\n",
            "Epoch loss improved to 128.182. Saving model. \n"
          ]
        },
        {
          "output_type": "stream",
          "name": "stderr",
          "text": [
            "/usr/local/lib/python3.7/dist-packages/keras/utils/generic_utils.py:497: CustomMaskWarning: Custom mask layers require a config and must override get_config. When loading, the custom mask layer must be passed to the custom_objects argument.\n",
            "  category=CustomMaskWarning)\n"
          ]
        },
        {
          "output_type": "stream",
          "name": "stdout",
          "text": [
            "Epoch 002: Loss: 124.510, Cpy_avg: 0.687, Val Loss: 122.108, Val Cpy_avg: 0.693\n",
            "INFO:tensorflow:Assets written to: ./saved_models/model4_s_1/assets\n",
            "Epoch loss improved to 124.510. Saving model. \n"
          ]
        },
        {
          "output_type": "stream",
          "name": "stderr",
          "text": [
            "/usr/local/lib/python3.7/dist-packages/keras/utils/generic_utils.py:497: CustomMaskWarning: Custom mask layers require a config and must override get_config. When loading, the custom mask layer must be passed to the custom_objects argument.\n",
            "  category=CustomMaskWarning)\n"
          ]
        },
        {
          "output_type": "stream",
          "name": "stdout",
          "text": [
            "Epoch 003: Loss: 123.059, Cpy_avg: 0.691, Val Loss: 120.553, Val Cpy_avg: 0.697\n",
            "INFO:tensorflow:Assets written to: ./saved_models/model4_s_1/assets\n",
            "Epoch loss improved to 123.059. Saving model. \n"
          ]
        },
        {
          "output_type": "stream",
          "name": "stderr",
          "text": [
            "/usr/local/lib/python3.7/dist-packages/keras/utils/generic_utils.py:497: CustomMaskWarning: Custom mask layers require a config and must override get_config. When loading, the custom mask layer must be passed to the custom_objects argument.\n",
            "  category=CustomMaskWarning)\n"
          ]
        },
        {
          "output_type": "stream",
          "name": "stdout",
          "text": [
            "Epoch 004: Loss: 121.448, Cpy_avg: 0.695, Val Loss: 119.034, Val Cpy_avg: 0.701\n",
            "INFO:tensorflow:Assets written to: ./saved_models/model4_s_1/assets\n",
            "Epoch loss improved to 121.448. Saving model. \n"
          ]
        },
        {
          "output_type": "stream",
          "name": "stderr",
          "text": [
            "/usr/local/lib/python3.7/dist-packages/keras/utils/generic_utils.py:497: CustomMaskWarning: Custom mask layers require a config and must override get_config. When loading, the custom mask layer must be passed to the custom_objects argument.\n",
            "  category=CustomMaskWarning)\n"
          ]
        },
        {
          "output_type": "stream",
          "name": "stdout",
          "text": [
            "Epoch 005: Loss: 119.605, Cpy_avg: 0.699, Val Loss: 117.572, Val Cpy_avg: 0.705\n",
            "INFO:tensorflow:Assets written to: ./saved_models/model4_s_1/assets\n",
            "Epoch loss improved to 119.605. Saving model. \n"
          ]
        },
        {
          "output_type": "stream",
          "name": "stderr",
          "text": [
            "/usr/local/lib/python3.7/dist-packages/keras/utils/generic_utils.py:497: CustomMaskWarning: Custom mask layers require a config and must override get_config. When loading, the custom mask layer must be passed to the custom_objects argument.\n",
            "  category=CustomMaskWarning)\n"
          ]
        },
        {
          "output_type": "stream",
          "name": "stdout",
          "text": [
            "Epoch 006: Loss: 118.250, Cpy_avg: 0.703, Val Loss: 116.235, Val Cpy_avg: 0.708\n",
            "INFO:tensorflow:Assets written to: ./saved_models/model4_s_1/assets\n",
            "Epoch loss improved to 118.250. Saving model. \n"
          ]
        },
        {
          "output_type": "stream",
          "name": "stderr",
          "text": [
            "/usr/local/lib/python3.7/dist-packages/keras/utils/generic_utils.py:497: CustomMaskWarning: Custom mask layers require a config and must override get_config. When loading, the custom mask layer must be passed to the custom_objects argument.\n",
            "  category=CustomMaskWarning)\n"
          ]
        },
        {
          "output_type": "stream",
          "name": "stdout",
          "text": [
            "Epoch 007: Loss: 116.767, Cpy_avg: 0.707, Val Loss: 114.952, Val Cpy_avg: 0.711\n",
            "INFO:tensorflow:Assets written to: ./saved_models/model4_s_1/assets\n",
            "Epoch loss improved to 116.767. Saving model. \n"
          ]
        },
        {
          "output_type": "stream",
          "name": "stderr",
          "text": [
            "/usr/local/lib/python3.7/dist-packages/keras/utils/generic_utils.py:497: CustomMaskWarning: Custom mask layers require a config and must override get_config. When loading, the custom mask layer must be passed to the custom_objects argument.\n",
            "  category=CustomMaskWarning)\n"
          ]
        },
        {
          "output_type": "stream",
          "name": "stdout",
          "text": [
            "Epoch 008: Loss: 115.770, Cpy_avg: 0.709, Val Loss: 113.772, Val Cpy_avg: 0.714\n",
            "INFO:tensorflow:Assets written to: ./saved_models/model4_s_1/assets\n",
            "Epoch loss improved to 115.770. Saving model. \n"
          ]
        },
        {
          "output_type": "stream",
          "name": "stderr",
          "text": [
            "/usr/local/lib/python3.7/dist-packages/keras/utils/generic_utils.py:497: CustomMaskWarning: Custom mask layers require a config and must override get_config. When loading, the custom mask layer must be passed to the custom_objects argument.\n",
            "  category=CustomMaskWarning)\n"
          ]
        },
        {
          "output_type": "stream",
          "name": "stdout",
          "text": [
            "Epoch 009: Loss: 114.362, Cpy_avg: 0.713, Val Loss: 112.572, Val Cpy_avg: 0.717\n",
            "INFO:tensorflow:Assets written to: ./saved_models/model4_s_1/assets\n",
            "Epoch loss improved to 114.362. Saving model. \n"
          ]
        },
        {
          "output_type": "stream",
          "name": "stderr",
          "text": [
            "/usr/local/lib/python3.7/dist-packages/keras/utils/generic_utils.py:497: CustomMaskWarning: Custom mask layers require a config and must override get_config. When loading, the custom mask layer must be passed to the custom_objects argument.\n",
            "  category=CustomMaskWarning)\n"
          ]
        },
        {
          "output_type": "stream",
          "name": "stdout",
          "text": [
            "Epoch 010: Loss: 113.242, Cpy_avg: 0.715, Val Loss: 111.325, Val Cpy_avg: 0.720\n",
            "INFO:tensorflow:Assets written to: ./saved_models/model4_s_1/assets\n",
            "Epoch loss improved to 113.242. Saving model. \n"
          ]
        },
        {
          "output_type": "stream",
          "name": "stderr",
          "text": [
            "/usr/local/lib/python3.7/dist-packages/keras/utils/generic_utils.py:497: CustomMaskWarning: Custom mask layers require a config and must override get_config. When loading, the custom mask layer must be passed to the custom_objects argument.\n",
            "  category=CustomMaskWarning)\n"
          ]
        },
        {
          "output_type": "stream",
          "name": "stdout",
          "text": [
            "Epoch 011: Loss: 111.806, Cpy_avg: 0.719, Val Loss: 110.088, Val Cpy_avg: 0.723\n",
            "INFO:tensorflow:Assets written to: ./saved_models/model4_s_1/assets\n",
            "Epoch loss improved to 111.806. Saving model. \n"
          ]
        },
        {
          "output_type": "stream",
          "name": "stderr",
          "text": [
            "/usr/local/lib/python3.7/dist-packages/keras/utils/generic_utils.py:497: CustomMaskWarning: Custom mask layers require a config and must override get_config. When loading, the custom mask layer must be passed to the custom_objects argument.\n",
            "  category=CustomMaskWarning)\n"
          ]
        },
        {
          "output_type": "stream",
          "name": "stdout",
          "text": [
            "Epoch 012: Loss: 110.606, Cpy_avg: 0.722, Val Loss: 108.729, Val Cpy_avg: 0.727\n",
            "INFO:tensorflow:Assets written to: ./saved_models/model4_s_1/assets\n",
            "Epoch loss improved to 110.606. Saving model. \n"
          ]
        },
        {
          "output_type": "stream",
          "name": "stderr",
          "text": [
            "/usr/local/lib/python3.7/dist-packages/keras/utils/generic_utils.py:497: CustomMaskWarning: Custom mask layers require a config and must override get_config. When loading, the custom mask layer must be passed to the custom_objects argument.\n",
            "  category=CustomMaskWarning)\n"
          ]
        },
        {
          "output_type": "stream",
          "name": "stdout",
          "text": [
            "Epoch 013: Loss: 109.119, Cpy_avg: 0.726, Val Loss: 107.189, Val Cpy_avg: 0.731\n",
            "INFO:tensorflow:Assets written to: ./saved_models/model4_s_1/assets\n",
            "Epoch loss improved to 109.119. Saving model. \n"
          ]
        },
        {
          "output_type": "stream",
          "name": "stderr",
          "text": [
            "/usr/local/lib/python3.7/dist-packages/keras/utils/generic_utils.py:497: CustomMaskWarning: Custom mask layers require a config and must override get_config. When loading, the custom mask layer must be passed to the custom_objects argument.\n",
            "  category=CustomMaskWarning)\n"
          ]
        },
        {
          "output_type": "stream",
          "name": "stdout",
          "text": [
            "Epoch 014: Loss: 107.303, Cpy_avg: 0.730, Val Loss: 105.412, Val Cpy_avg: 0.735\n",
            "INFO:tensorflow:Assets written to: ./saved_models/model4_s_1/assets\n",
            "Epoch loss improved to 107.303. Saving model. \n"
          ]
        },
        {
          "output_type": "stream",
          "name": "stderr",
          "text": [
            "/usr/local/lib/python3.7/dist-packages/keras/utils/generic_utils.py:497: CustomMaskWarning: Custom mask layers require a config and must override get_config. When loading, the custom mask layer must be passed to the custom_objects argument.\n",
            "  category=CustomMaskWarning)\n"
          ]
        },
        {
          "output_type": "stream",
          "name": "stdout",
          "text": [
            "Epoch 015: Loss: 105.328, Cpy_avg: 0.735, Val Loss: 103.475, Val Cpy_avg: 0.740\n",
            "INFO:tensorflow:Assets written to: ./saved_models/model4_s_1/assets\n",
            "Epoch loss improved to 105.328. Saving model. \n"
          ]
        },
        {
          "output_type": "stream",
          "name": "stderr",
          "text": [
            "/usr/local/lib/python3.7/dist-packages/keras/utils/generic_utils.py:497: CustomMaskWarning: Custom mask layers require a config and must override get_config. When loading, the custom mask layer must be passed to the custom_objects argument.\n",
            "  category=CustomMaskWarning)\n"
          ]
        },
        {
          "output_type": "stream",
          "name": "stdout",
          "text": [
            "Epoch 016: Loss: 103.660, Cpy_avg: 0.740, Val Loss: 101.472, Val Cpy_avg: 0.745\n",
            "INFO:tensorflow:Assets written to: ./saved_models/model4_s_1/assets\n",
            "Epoch loss improved to 103.660. Saving model. \n"
          ]
        },
        {
          "output_type": "stream",
          "name": "stderr",
          "text": [
            "/usr/local/lib/python3.7/dist-packages/keras/utils/generic_utils.py:497: CustomMaskWarning: Custom mask layers require a config and must override get_config. When loading, the custom mask layer must be passed to the custom_objects argument.\n",
            "  category=CustomMaskWarning)\n"
          ]
        },
        {
          "output_type": "stream",
          "name": "stdout",
          "text": [
            "Epoch 017: Loss: 101.627, Cpy_avg: 0.745, Val Loss: 99.453, Val Cpy_avg: 0.750\n",
            "INFO:tensorflow:Assets written to: ./saved_models/model4_s_1/assets\n",
            "Epoch loss improved to 101.627. Saving model. \n"
          ]
        },
        {
          "output_type": "stream",
          "name": "stderr",
          "text": [
            "/usr/local/lib/python3.7/dist-packages/keras/utils/generic_utils.py:497: CustomMaskWarning: Custom mask layers require a config and must override get_config. When loading, the custom mask layer must be passed to the custom_objects argument.\n",
            "  category=CustomMaskWarning)\n"
          ]
        },
        {
          "output_type": "stream",
          "name": "stdout",
          "text": [
            "Epoch 018: Loss: 99.451, Cpy_avg: 0.750, Val Loss: 97.465, Val Cpy_avg: 0.755\n",
            "INFO:tensorflow:Assets written to: ./saved_models/model4_s_1/assets\n",
            "Epoch loss improved to 99.451. Saving model. \n"
          ]
        },
        {
          "output_type": "stream",
          "name": "stderr",
          "text": [
            "/usr/local/lib/python3.7/dist-packages/keras/utils/generic_utils.py:497: CustomMaskWarning: Custom mask layers require a config and must override get_config. When loading, the custom mask layer must be passed to the custom_objects argument.\n",
            "  category=CustomMaskWarning)\n"
          ]
        },
        {
          "output_type": "stream",
          "name": "stdout",
          "text": [
            "Epoch 019: Loss: 97.633, Cpy_avg: 0.755, Val Loss: 95.457, Val Cpy_avg: 0.760\n",
            "INFO:tensorflow:Assets written to: ./saved_models/model4_s_1/assets\n",
            "Epoch loss improved to 97.633. Saving model. \n"
          ]
        },
        {
          "output_type": "stream",
          "name": "stderr",
          "text": [
            "/usr/local/lib/python3.7/dist-packages/keras/utils/generic_utils.py:497: CustomMaskWarning: Custom mask layers require a config and must override get_config. When loading, the custom mask layer must be passed to the custom_objects argument.\n",
            "  category=CustomMaskWarning)\n"
          ]
        },
        {
          "output_type": "stream",
          "name": "stdout",
          "text": [
            "Epoch 020: Loss: 95.688, Cpy_avg: 0.760, Val Loss: 93.680, Val Cpy_avg: 0.765\n",
            "INFO:tensorflow:Assets written to: ./saved_models/model4_s_1/assets\n",
            "Epoch loss improved to 95.688. Saving model. \n"
          ]
        },
        {
          "output_type": "stream",
          "name": "stderr",
          "text": [
            "/usr/local/lib/python3.7/dist-packages/keras/utils/generic_utils.py:497: CustomMaskWarning: Custom mask layers require a config and must override get_config. When loading, the custom mask layer must be passed to the custom_objects argument.\n",
            "  category=CustomMaskWarning)\n"
          ]
        },
        {
          "output_type": "stream",
          "name": "stdout",
          "text": [
            "Epoch 021: Loss: 93.538, Cpy_avg: 0.765, Val Loss: 91.912, Val Cpy_avg: 0.769\n",
            "INFO:tensorflow:Assets written to: ./saved_models/model4_s_1/assets\n",
            "Epoch loss improved to 93.538. Saving model. \n"
          ]
        },
        {
          "output_type": "stream",
          "name": "stderr",
          "text": [
            "/usr/local/lib/python3.7/dist-packages/keras/utils/generic_utils.py:497: CustomMaskWarning: Custom mask layers require a config and must override get_config. When loading, the custom mask layer must be passed to the custom_objects argument.\n",
            "  category=CustomMaskWarning)\n"
          ]
        },
        {
          "output_type": "stream",
          "name": "stdout",
          "text": [
            "Epoch 022: Loss: 92.050, Cpy_avg: 0.769, Val Loss: 90.232, Val Cpy_avg: 0.773\n",
            "INFO:tensorflow:Assets written to: ./saved_models/model4_s_1/assets\n",
            "Epoch loss improved to 92.050. Saving model. \n"
          ]
        },
        {
          "output_type": "stream",
          "name": "stderr",
          "text": [
            "/usr/local/lib/python3.7/dist-packages/keras/utils/generic_utils.py:497: CustomMaskWarning: Custom mask layers require a config and must override get_config. When loading, the custom mask layer must be passed to the custom_objects argument.\n",
            "  category=CustomMaskWarning)\n"
          ]
        },
        {
          "output_type": "stream",
          "name": "stdout",
          "text": [
            "Epoch 023: Loss: 90.405, Cpy_avg: 0.773, Val Loss: 88.607, Val Cpy_avg: 0.777\n",
            "INFO:tensorflow:Assets written to: ./saved_models/model4_s_1/assets\n",
            "Epoch loss improved to 90.405. Saving model. \n"
          ]
        },
        {
          "output_type": "stream",
          "name": "stderr",
          "text": [
            "/usr/local/lib/python3.7/dist-packages/keras/utils/generic_utils.py:497: CustomMaskWarning: Custom mask layers require a config and must override get_config. When loading, the custom mask layer must be passed to the custom_objects argument.\n",
            "  category=CustomMaskWarning)\n"
          ]
        },
        {
          "output_type": "stream",
          "name": "stdout",
          "text": [
            "Epoch 024: Loss: 88.551, Cpy_avg: 0.778, Val Loss: 87.121, Val Cpy_avg: 0.781\n",
            "INFO:tensorflow:Assets written to: ./saved_models/model4_s_1/assets\n",
            "Epoch loss improved to 88.551. Saving model. \n"
          ]
        },
        {
          "output_type": "stream",
          "name": "stderr",
          "text": [
            "/usr/local/lib/python3.7/dist-packages/keras/utils/generic_utils.py:497: CustomMaskWarning: Custom mask layers require a config and must override get_config. When loading, the custom mask layer must be passed to the custom_objects argument.\n",
            "  category=CustomMaskWarning)\n"
          ]
        },
        {
          "output_type": "stream",
          "name": "stdout",
          "text": [
            "Epoch 025: Loss: 87.214, Cpy_avg: 0.781, Val Loss: 85.786, Val Cpy_avg: 0.784\n",
            "INFO:tensorflow:Assets written to: ./saved_models/model4_s_1/assets\n",
            "Epoch loss improved to 87.214. Saving model. \n"
          ]
        },
        {
          "output_type": "stream",
          "name": "stderr",
          "text": [
            "/usr/local/lib/python3.7/dist-packages/keras/utils/generic_utils.py:497: CustomMaskWarning: Custom mask layers require a config and must override get_config. When loading, the custom mask layer must be passed to the custom_objects argument.\n",
            "  category=CustomMaskWarning)\n"
          ]
        },
        {
          "output_type": "stream",
          "name": "stdout",
          "text": [
            "Epoch 026: Loss: 85.594, Cpy_avg: 0.785, Val Loss: 84.355, Val Cpy_avg: 0.788\n",
            "INFO:tensorflow:Assets written to: ./saved_models/model4_s_1/assets\n",
            "Epoch loss improved to 85.594. Saving model. \n"
          ]
        },
        {
          "output_type": "stream",
          "name": "stderr",
          "text": [
            "/usr/local/lib/python3.7/dist-packages/keras/utils/generic_utils.py:497: CustomMaskWarning: Custom mask layers require a config and must override get_config. When loading, the custom mask layer must be passed to the custom_objects argument.\n",
            "  category=CustomMaskWarning)\n"
          ]
        },
        {
          "output_type": "stream",
          "name": "stdout",
          "text": [
            "Epoch 027: Loss: 84.175, Cpy_avg: 0.789, Val Loss: 83.136, Val Cpy_avg: 0.791\n",
            "INFO:tensorflow:Assets written to: ./saved_models/model4_s_1/assets\n",
            "Epoch loss improved to 84.175. Saving model. \n"
          ]
        },
        {
          "output_type": "stream",
          "name": "stderr",
          "text": [
            "/usr/local/lib/python3.7/dist-packages/keras/utils/generic_utils.py:497: CustomMaskWarning: Custom mask layers require a config and must override get_config. When loading, the custom mask layer must be passed to the custom_objects argument.\n",
            "  category=CustomMaskWarning)\n"
          ]
        },
        {
          "output_type": "stream",
          "name": "stdout",
          "text": [
            "Epoch 028: Loss: 83.076, Cpy_avg: 0.791, Val Loss: 81.974, Val Cpy_avg: 0.794\n",
            "INFO:tensorflow:Assets written to: ./saved_models/model4_s_1/assets\n",
            "Epoch loss improved to 83.076. Saving model. \n"
          ]
        },
        {
          "output_type": "stream",
          "name": "stderr",
          "text": [
            "/usr/local/lib/python3.7/dist-packages/keras/utils/generic_utils.py:497: CustomMaskWarning: Custom mask layers require a config and must override get_config. When loading, the custom mask layer must be passed to the custom_objects argument.\n",
            "  category=CustomMaskWarning)\n"
          ]
        },
        {
          "output_type": "stream",
          "name": "stdout",
          "text": [
            "Epoch 029: Loss: 81.811, Cpy_avg: 0.794, Val Loss: 80.934, Val Cpy_avg: 0.797\n",
            "INFO:tensorflow:Assets written to: ./saved_models/model4_s_1/assets\n",
            "Epoch loss improved to 81.811. Saving model. \n"
          ]
        },
        {
          "output_type": "stream",
          "name": "stderr",
          "text": [
            "/usr/local/lib/python3.7/dist-packages/keras/utils/generic_utils.py:497: CustomMaskWarning: Custom mask layers require a config and must override get_config. When loading, the custom mask layer must be passed to the custom_objects argument.\n",
            "  category=CustomMaskWarning)\n"
          ]
        },
        {
          "output_type": "stream",
          "name": "stdout",
          "text": [
            "Epoch 030: Loss: 80.795, Cpy_avg: 0.797, Val Loss: 79.895, Val Cpy_avg: 0.799\n",
            "INFO:tensorflow:Assets written to: ./saved_models/model4_s_1/assets\n",
            "Epoch loss improved to 80.795. Saving model. \n"
          ]
        },
        {
          "output_type": "stream",
          "name": "stderr",
          "text": [
            "/usr/local/lib/python3.7/dist-packages/keras/utils/generic_utils.py:497: CustomMaskWarning: Custom mask layers require a config and must override get_config. When loading, the custom mask layer must be passed to the custom_objects argument.\n",
            "  category=CustomMaskWarning)\n"
          ]
        },
        {
          "output_type": "stream",
          "name": "stdout",
          "text": [
            "Epoch 031: Loss: 79.733, Cpy_avg: 0.800, Val Loss: 78.957, Val Cpy_avg: 0.802\n",
            "INFO:tensorflow:Assets written to: ./saved_models/model4_s_1/assets\n",
            "Epoch loss improved to 79.733. Saving model. \n"
          ]
        },
        {
          "output_type": "stream",
          "name": "stderr",
          "text": [
            "/usr/local/lib/python3.7/dist-packages/keras/utils/generic_utils.py:497: CustomMaskWarning: Custom mask layers require a config and must override get_config. When loading, the custom mask layer must be passed to the custom_objects argument.\n",
            "  category=CustomMaskWarning)\n"
          ]
        },
        {
          "output_type": "stream",
          "name": "stdout",
          "text": [
            "Epoch 032: Loss: 79.449, Cpy_avg: 0.800, Val Loss: 78.113, Val Cpy_avg: 0.804\n",
            "INFO:tensorflow:Assets written to: ./saved_models/model4_s_1/assets\n",
            "Epoch loss improved to 79.449. Saving model. \n"
          ]
        },
        {
          "output_type": "stream",
          "name": "stderr",
          "text": [
            "/usr/local/lib/python3.7/dist-packages/keras/utils/generic_utils.py:497: CustomMaskWarning: Custom mask layers require a config and must override get_config. When loading, the custom mask layer must be passed to the custom_objects argument.\n",
            "  category=CustomMaskWarning)\n"
          ]
        },
        {
          "output_type": "stream",
          "name": "stdout",
          "text": [
            "Epoch 033: Loss: 78.351, Cpy_avg: 0.803, Val Loss: 77.545, Val Cpy_avg: 0.805\n",
            "INFO:tensorflow:Assets written to: ./saved_models/model4_s_1/assets\n",
            "Epoch loss improved to 78.351. Saving model. \n"
          ]
        },
        {
          "output_type": "stream",
          "name": "stderr",
          "text": [
            "/usr/local/lib/python3.7/dist-packages/keras/utils/generic_utils.py:497: CustomMaskWarning: Custom mask layers require a config and must override get_config. When loading, the custom mask layer must be passed to the custom_objects argument.\n",
            "  category=CustomMaskWarning)\n"
          ]
        },
        {
          "output_type": "stream",
          "name": "stdout",
          "text": [
            "Epoch 034: Loss: 77.124, Cpy_avg: 0.806, Val Loss: 76.750, Val Cpy_avg: 0.807\n",
            "INFO:tensorflow:Assets written to: ./saved_models/model4_s_1/assets\n",
            "Epoch loss improved to 77.124. Saving model. \n"
          ]
        },
        {
          "output_type": "stream",
          "name": "stderr",
          "text": [
            "/usr/local/lib/python3.7/dist-packages/keras/utils/generic_utils.py:497: CustomMaskWarning: Custom mask layers require a config and must override get_config. When loading, the custom mask layer must be passed to the custom_objects argument.\n",
            "  category=CustomMaskWarning)\n"
          ]
        },
        {
          "output_type": "stream",
          "name": "stdout",
          "text": [
            "Epoch 035: Loss: 76.593, Cpy_avg: 0.808, Val Loss: 75.769, Val Cpy_avg: 0.810\n",
            "INFO:tensorflow:Assets written to: ./saved_models/model4_s_1/assets\n",
            "Epoch loss improved to 76.593. Saving model. \n"
          ]
        },
        {
          "output_type": "stream",
          "name": "stderr",
          "text": [
            "/usr/local/lib/python3.7/dist-packages/keras/utils/generic_utils.py:497: CustomMaskWarning: Custom mask layers require a config and must override get_config. When loading, the custom mask layer must be passed to the custom_objects argument.\n",
            "  category=CustomMaskWarning)\n"
          ]
        },
        {
          "output_type": "stream",
          "name": "stdout",
          "text": [
            "Epoch 036: Loss: 75.798, Cpy_avg: 0.810, Val Loss: 75.168, Val Cpy_avg: 0.811\n",
            "INFO:tensorflow:Assets written to: ./saved_models/model4_s_1/assets\n",
            "Epoch loss improved to 75.798. Saving model. \n"
          ]
        },
        {
          "output_type": "stream",
          "name": "stderr",
          "text": [
            "/usr/local/lib/python3.7/dist-packages/keras/utils/generic_utils.py:497: CustomMaskWarning: Custom mask layers require a config and must override get_config. When loading, the custom mask layer must be passed to the custom_objects argument.\n",
            "  category=CustomMaskWarning)\n"
          ]
        },
        {
          "output_type": "stream",
          "name": "stdout",
          "text": [
            "Epoch 037: Loss: 75.324, Cpy_avg: 0.811, Val Loss: 74.921, Val Cpy_avg: 0.812\n",
            "INFO:tensorflow:Assets written to: ./saved_models/model4_s_1/assets\n",
            "Epoch loss improved to 75.324. Saving model. \n"
          ]
        },
        {
          "output_type": "stream",
          "name": "stderr",
          "text": [
            "/usr/local/lib/python3.7/dist-packages/keras/utils/generic_utils.py:497: CustomMaskWarning: Custom mask layers require a config and must override get_config. When loading, the custom mask layer must be passed to the custom_objects argument.\n",
            "  category=CustomMaskWarning)\n"
          ]
        },
        {
          "output_type": "stream",
          "name": "stdout",
          "text": [
            "Epoch 038: Loss: 75.307, Cpy_avg: 0.811, Val Loss: 75.170, Val Cpy_avg: 0.811\n",
            "INFO:tensorflow:Assets written to: ./saved_models/model4_s_1/assets\n",
            "Epoch loss improved to 75.307. Saving model. \n"
          ]
        },
        {
          "output_type": "stream",
          "name": "stderr",
          "text": [
            "/usr/local/lib/python3.7/dist-packages/keras/utils/generic_utils.py:497: CustomMaskWarning: Custom mask layers require a config and must override get_config. When loading, the custom mask layer must be passed to the custom_objects argument.\n",
            "  category=CustomMaskWarning)\n"
          ]
        },
        {
          "output_type": "stream",
          "name": "stdout",
          "text": [
            "Epoch 039: Loss: 74.583, Cpy_avg: 0.813, Val Loss: 74.332, Val Cpy_avg: 0.813\n",
            "INFO:tensorflow:Assets written to: ./saved_models/model4_s_1/assets\n",
            "Epoch loss improved to 74.583. Saving model. \n"
          ]
        },
        {
          "output_type": "stream",
          "name": "stderr",
          "text": [
            "/usr/local/lib/python3.7/dist-packages/keras/utils/generic_utils.py:497: CustomMaskWarning: Custom mask layers require a config and must override get_config. When loading, the custom mask layer must be passed to the custom_objects argument.\n",
            "  category=CustomMaskWarning)\n"
          ]
        },
        {
          "output_type": "stream",
          "name": "stdout",
          "text": [
            "Epoch 040: Loss: 74.138, Cpy_avg: 0.814, Val Loss: 73.420, Val Cpy_avg: 0.816\n",
            "INFO:tensorflow:Assets written to: ./saved_models/model4_s_1/assets\n",
            "Epoch loss improved to 74.138. Saving model. \n"
          ]
        },
        {
          "output_type": "stream",
          "name": "stderr",
          "text": [
            "/usr/local/lib/python3.7/dist-packages/keras/utils/generic_utils.py:497: CustomMaskWarning: Custom mask layers require a config and must override get_config. When loading, the custom mask layer must be passed to the custom_objects argument.\n",
            "  category=CustomMaskWarning)\n"
          ]
        },
        {
          "output_type": "stream",
          "name": "stdout",
          "text": [
            "Epoch 041: Loss: 73.315, Cpy_avg: 0.816, Val Loss: 72.919, Val Cpy_avg: 0.817\n",
            "INFO:tensorflow:Assets written to: ./saved_models/model4_s_1/assets\n",
            "Epoch loss improved to 73.315. Saving model. \n"
          ]
        },
        {
          "output_type": "stream",
          "name": "stderr",
          "text": [
            "/usr/local/lib/python3.7/dist-packages/keras/utils/generic_utils.py:497: CustomMaskWarning: Custom mask layers require a config and must override get_config. When loading, the custom mask layer must be passed to the custom_objects argument.\n",
            "  category=CustomMaskWarning)\n"
          ]
        },
        {
          "output_type": "stream",
          "name": "stdout",
          "text": [
            "Epoch 042: Loss: 72.650, Cpy_avg: 0.817, Val Loss: 72.531, Val Cpy_avg: 0.818\n",
            "INFO:tensorflow:Assets written to: ./saved_models/model4_s_1/assets\n",
            "Epoch loss improved to 72.650. Saving model. \n"
          ]
        },
        {
          "output_type": "stream",
          "name": "stderr",
          "text": [
            "/usr/local/lib/python3.7/dist-packages/keras/utils/generic_utils.py:497: CustomMaskWarning: Custom mask layers require a config and must override get_config. When loading, the custom mask layer must be passed to the custom_objects argument.\n",
            "  category=CustomMaskWarning)\n"
          ]
        },
        {
          "output_type": "stream",
          "name": "stdout",
          "text": [
            "Epoch 043: Loss: 72.652, Cpy_avg: 0.817, Val Loss: 72.333, Val Cpy_avg: 0.818\n",
            "Epoch 044: Loss: 72.817, Cpy_avg: 0.817, Val Loss: 71.979, Val Cpy_avg: 0.819\n",
            "Epoch 045: Loss: 72.672, Cpy_avg: 0.817, Val Loss: 72.248, Val Cpy_avg: 0.818\n",
            "Epoch 046: Loss: 72.660, Cpy_avg: 0.817, Val Loss: 73.308, Val Cpy_avg: 0.816\n",
            "Epoch 047: Loss: 72.575, Cpy_avg: 0.818, Val Loss: 71.768, Val Cpy_avg: 0.820\n",
            "INFO:tensorflow:Assets written to: ./saved_models/model4_s_1/assets\n",
            "Epoch loss improved to 72.575. Saving model. \n"
          ]
        },
        {
          "output_type": "stream",
          "name": "stderr",
          "text": [
            "/usr/local/lib/python3.7/dist-packages/keras/utils/generic_utils.py:497: CustomMaskWarning: Custom mask layers require a config and must override get_config. When loading, the custom mask layer must be passed to the custom_objects argument.\n",
            "  category=CustomMaskWarning)\n"
          ]
        },
        {
          "output_type": "stream",
          "name": "stdout",
          "text": [
            "Epoch 048: Loss: 71.856, Cpy_avg: 0.819, Val Loss: 71.160, Val Cpy_avg: 0.821\n",
            "INFO:tensorflow:Assets written to: ./saved_models/model4_s_1/assets\n",
            "Epoch loss improved to 71.856. Saving model. \n"
          ]
        },
        {
          "output_type": "stream",
          "name": "stderr",
          "text": [
            "/usr/local/lib/python3.7/dist-packages/keras/utils/generic_utils.py:497: CustomMaskWarning: Custom mask layers require a config and must override get_config. When loading, the custom mask layer must be passed to the custom_objects argument.\n",
            "  category=CustomMaskWarning)\n"
          ]
        },
        {
          "output_type": "stream",
          "name": "stdout",
          "text": [
            "Epoch 049: Loss: 71.040, Cpy_avg: 0.822, Val Loss: 70.817, Val Cpy_avg: 0.822\n",
            "INFO:tensorflow:Assets written to: ./saved_models/model4_s_1/assets\n",
            "Epoch loss improved to 71.040. Saving model. \n"
          ]
        },
        {
          "output_type": "stream",
          "name": "stderr",
          "text": [
            "/usr/local/lib/python3.7/dist-packages/keras/utils/generic_utils.py:497: CustomMaskWarning: Custom mask layers require a config and must override get_config. When loading, the custom mask layer must be passed to the custom_objects argument.\n",
            "  category=CustomMaskWarning)\n"
          ]
        },
        {
          "output_type": "stream",
          "name": "stdout",
          "text": [
            "Epoch 050: Loss: 70.675, Cpy_avg: 0.822, Val Loss: 70.405, Val Cpy_avg: 0.823\n",
            "INFO:tensorflow:Assets written to: ./saved_models/model4_s_1/assets\n",
            "Epoch loss improved to 70.675. Saving model. \n"
          ]
        },
        {
          "output_type": "stream",
          "name": "stderr",
          "text": [
            "/usr/local/lib/python3.7/dist-packages/keras/utils/generic_utils.py:497: CustomMaskWarning: Custom mask layers require a config and must override get_config. When loading, the custom mask layer must be passed to the custom_objects argument.\n",
            "  category=CustomMaskWarning)\n"
          ]
        },
        {
          "output_type": "stream",
          "name": "stdout",
          "text": [
            "Epoch 051: Loss: 70.434, Cpy_avg: 0.823, Val Loss: 70.416, Val Cpy_avg: 0.823\n",
            "INFO:tensorflow:Assets written to: ./saved_models/model4_s_1/assets\n",
            "Epoch loss improved to 70.434. Saving model. \n"
          ]
        },
        {
          "output_type": "stream",
          "name": "stderr",
          "text": [
            "/usr/local/lib/python3.7/dist-packages/keras/utils/generic_utils.py:497: CustomMaskWarning: Custom mask layers require a config and must override get_config. When loading, the custom mask layer must be passed to the custom_objects argument.\n",
            "  category=CustomMaskWarning)\n"
          ]
        },
        {
          "output_type": "stream",
          "name": "stdout",
          "text": [
            "Epoch 052: Loss: 70.201, Cpy_avg: 0.824, Val Loss: 69.731, Val Cpy_avg: 0.825\n",
            "INFO:tensorflow:Assets written to: ./saved_models/model4_s_1/assets\n",
            "Epoch loss improved to 70.201. Saving model. \n"
          ]
        },
        {
          "output_type": "stream",
          "name": "stderr",
          "text": [
            "/usr/local/lib/python3.7/dist-packages/keras/utils/generic_utils.py:497: CustomMaskWarning: Custom mask layers require a config and must override get_config. When loading, the custom mask layer must be passed to the custom_objects argument.\n",
            "  category=CustomMaskWarning)\n"
          ]
        },
        {
          "output_type": "stream",
          "name": "stdout",
          "text": [
            "Epoch 053: Loss: 69.940, Cpy_avg: 0.824, Val Loss: 69.677, Val Cpy_avg: 0.825\n",
            "INFO:tensorflow:Assets written to: ./saved_models/model4_s_1/assets\n",
            "Epoch loss improved to 69.940. Saving model. \n"
          ]
        },
        {
          "output_type": "stream",
          "name": "stderr",
          "text": [
            "/usr/local/lib/python3.7/dist-packages/keras/utils/generic_utils.py:497: CustomMaskWarning: Custom mask layers require a config and must override get_config. When loading, the custom mask layer must be passed to the custom_objects argument.\n",
            "  category=CustomMaskWarning)\n"
          ]
        },
        {
          "output_type": "stream",
          "name": "stdout",
          "text": [
            "Epoch 054: Loss: 70.160, Cpy_avg: 0.824, Val Loss: 70.522, Val Cpy_avg: 0.823\n",
            "Epoch 055: Loss: 70.028, Cpy_avg: 0.824, Val Loss: 69.945, Val Cpy_avg: 0.824\n",
            "Epoch 056: Loss: 69.619, Cpy_avg: 0.825, Val Loss: 69.405, Val Cpy_avg: 0.826\n",
            "INFO:tensorflow:Assets written to: ./saved_models/model4_s_1/assets\n",
            "Epoch loss improved to 69.619. Saving model. \n"
          ]
        },
        {
          "output_type": "stream",
          "name": "stderr",
          "text": [
            "/usr/local/lib/python3.7/dist-packages/keras/utils/generic_utils.py:497: CustomMaskWarning: Custom mask layers require a config and must override get_config. When loading, the custom mask layer must be passed to the custom_objects argument.\n",
            "  category=CustomMaskWarning)\n"
          ]
        },
        {
          "output_type": "stream",
          "name": "stdout",
          "text": [
            "Epoch 057: Loss: 69.227, Cpy_avg: 0.826, Val Loss: 69.750, Val Cpy_avg: 0.825\n",
            "INFO:tensorflow:Assets written to: ./saved_models/model4_s_1/assets\n",
            "Epoch loss improved to 69.227. Saving model. \n"
          ]
        },
        {
          "output_type": "stream",
          "name": "stderr",
          "text": [
            "/usr/local/lib/python3.7/dist-packages/keras/utils/generic_utils.py:497: CustomMaskWarning: Custom mask layers require a config and must override get_config. When loading, the custom mask layer must be passed to the custom_objects argument.\n",
            "  category=CustomMaskWarning)\n"
          ]
        },
        {
          "output_type": "stream",
          "name": "stdout",
          "text": [
            "Epoch 058: Loss: 69.203, Cpy_avg: 0.826, Val Loss: 69.079, Val Cpy_avg: 0.826\n",
            "INFO:tensorflow:Assets written to: ./saved_models/model4_s_1/assets\n",
            "Epoch loss improved to 69.203. Saving model. \n"
          ]
        },
        {
          "output_type": "stream",
          "name": "stderr",
          "text": [
            "/usr/local/lib/python3.7/dist-packages/keras/utils/generic_utils.py:497: CustomMaskWarning: Custom mask layers require a config and must override get_config. When loading, the custom mask layer must be passed to the custom_objects argument.\n",
            "  category=CustomMaskWarning)\n"
          ]
        },
        {
          "output_type": "stream",
          "name": "stdout",
          "text": [
            "Epoch 059: Loss: 68.798, Cpy_avg: 0.827, Val Loss: 69.383, Val Cpy_avg: 0.826\n",
            "INFO:tensorflow:Assets written to: ./saved_models/model4_s_1/assets\n",
            "Epoch loss improved to 68.798. Saving model. \n"
          ]
        },
        {
          "output_type": "stream",
          "name": "stderr",
          "text": [
            "/usr/local/lib/python3.7/dist-packages/keras/utils/generic_utils.py:497: CustomMaskWarning: Custom mask layers require a config and must override get_config. When loading, the custom mask layer must be passed to the custom_objects argument.\n",
            "  category=CustomMaskWarning)\n"
          ]
        },
        {
          "output_type": "stream",
          "name": "stdout",
          "text": [
            "Epoch 060: Loss: 69.428, Cpy_avg: 0.826, Val Loss: 69.222, Val Cpy_avg: 0.826\n",
            "Epoch 061: Loss: 68.991, Cpy_avg: 0.827, Val Loss: 68.754, Val Cpy_avg: 0.827\n",
            "Epoch 062: Loss: 68.715, Cpy_avg: 0.827, Val Loss: 68.606, Val Cpy_avg: 0.828\n",
            "INFO:tensorflow:Assets written to: ./saved_models/model4_s_1/assets\n",
            "Epoch loss improved to 68.715. Saving model. \n"
          ]
        },
        {
          "output_type": "stream",
          "name": "stderr",
          "text": [
            "/usr/local/lib/python3.7/dist-packages/keras/utils/generic_utils.py:497: CustomMaskWarning: Custom mask layers require a config and must override get_config. When loading, the custom mask layer must be passed to the custom_objects argument.\n",
            "  category=CustomMaskWarning)\n"
          ]
        },
        {
          "output_type": "stream",
          "name": "stdout",
          "text": [
            "Epoch 063: Loss: 68.173, Cpy_avg: 0.829, Val Loss: 68.469, Val Cpy_avg: 0.828\n",
            "INFO:tensorflow:Assets written to: ./saved_models/model4_s_1/assets\n",
            "Epoch loss improved to 68.173. Saving model. \n"
          ]
        },
        {
          "output_type": "stream",
          "name": "stderr",
          "text": [
            "/usr/local/lib/python3.7/dist-packages/keras/utils/generic_utils.py:497: CustomMaskWarning: Custom mask layers require a config and must override get_config. When loading, the custom mask layer must be passed to the custom_objects argument.\n",
            "  category=CustomMaskWarning)\n"
          ]
        },
        {
          "output_type": "stream",
          "name": "stdout",
          "text": [
            "Epoch 064: Loss: 68.180, Cpy_avg: 0.829, Val Loss: 68.238, Val Cpy_avg: 0.829\n",
            "Epoch 065: Loss: 68.115, Cpy_avg: 0.829, Val Loss: 68.109, Val Cpy_avg: 0.829\n",
            "INFO:tensorflow:Assets written to: ./saved_models/model4_s_1/assets\n",
            "Epoch loss improved to 68.115. Saving model. \n"
          ]
        },
        {
          "output_type": "stream",
          "name": "stderr",
          "text": [
            "/usr/local/lib/python3.7/dist-packages/keras/utils/generic_utils.py:497: CustomMaskWarning: Custom mask layers require a config and must override get_config. When loading, the custom mask layer must be passed to the custom_objects argument.\n",
            "  category=CustomMaskWarning)\n"
          ]
        },
        {
          "output_type": "stream",
          "name": "stdout",
          "text": [
            "Epoch 066: Loss: 67.899, Cpy_avg: 0.829, Val Loss: 67.952, Val Cpy_avg: 0.829\n",
            "INFO:tensorflow:Assets written to: ./saved_models/model4_s_1/assets\n",
            "Epoch loss improved to 67.899. Saving model. \n"
          ]
        },
        {
          "output_type": "stream",
          "name": "stderr",
          "text": [
            "/usr/local/lib/python3.7/dist-packages/keras/utils/generic_utils.py:497: CustomMaskWarning: Custom mask layers require a config and must override get_config. When loading, the custom mask layer must be passed to the custom_objects argument.\n",
            "  category=CustomMaskWarning)\n"
          ]
        },
        {
          "output_type": "stream",
          "name": "stdout",
          "text": [
            "Epoch 067: Loss: 67.407, Cpy_avg: 0.831, Val Loss: 67.511, Val Cpy_avg: 0.830\n",
            "INFO:tensorflow:Assets written to: ./saved_models/model4_s_1/assets\n",
            "Epoch loss improved to 67.407. Saving model. \n"
          ]
        },
        {
          "output_type": "stream",
          "name": "stderr",
          "text": [
            "/usr/local/lib/python3.7/dist-packages/keras/utils/generic_utils.py:497: CustomMaskWarning: Custom mask layers require a config and must override get_config. When loading, the custom mask layer must be passed to the custom_objects argument.\n",
            "  category=CustomMaskWarning)\n"
          ]
        },
        {
          "output_type": "stream",
          "name": "stdout",
          "text": [
            "Epoch 068: Loss: 67.273, Cpy_avg: 0.831, Val Loss: 67.521, Val Cpy_avg: 0.830\n",
            "INFO:tensorflow:Assets written to: ./saved_models/model4_s_1/assets\n",
            "Epoch loss improved to 67.273. Saving model. \n"
          ]
        },
        {
          "output_type": "stream",
          "name": "stderr",
          "text": [
            "/usr/local/lib/python3.7/dist-packages/keras/utils/generic_utils.py:497: CustomMaskWarning: Custom mask layers require a config and must override get_config. When loading, the custom mask layer must be passed to the custom_objects argument.\n",
            "  category=CustomMaskWarning)\n"
          ]
        },
        {
          "output_type": "stream",
          "name": "stdout",
          "text": [
            "Epoch 069: Loss: 67.592, Cpy_avg: 0.830, Val Loss: 67.429, Val Cpy_avg: 0.831\n",
            "Epoch 070: Loss: 67.086, Cpy_avg: 0.831, Val Loss: 67.224, Val Cpy_avg: 0.831\n",
            "INFO:tensorflow:Assets written to: ./saved_models/model4_s_1/assets\n",
            "Epoch loss improved to 67.086. Saving model. \n"
          ]
        },
        {
          "output_type": "stream",
          "name": "stderr",
          "text": [
            "/usr/local/lib/python3.7/dist-packages/keras/utils/generic_utils.py:497: CustomMaskWarning: Custom mask layers require a config and must override get_config. When loading, the custom mask layer must be passed to the custom_objects argument.\n",
            "  category=CustomMaskWarning)\n"
          ]
        },
        {
          "output_type": "stream",
          "name": "stdout",
          "text": [
            "Epoch 071: Loss: 66.895, Cpy_avg: 0.832, Val Loss: 67.149, Val Cpy_avg: 0.831\n",
            "INFO:tensorflow:Assets written to: ./saved_models/model4_s_1/assets\n",
            "Epoch loss improved to 66.895. Saving model. \n"
          ]
        },
        {
          "output_type": "stream",
          "name": "stderr",
          "text": [
            "/usr/local/lib/python3.7/dist-packages/keras/utils/generic_utils.py:497: CustomMaskWarning: Custom mask layers require a config and must override get_config. When loading, the custom mask layer must be passed to the custom_objects argument.\n",
            "  category=CustomMaskWarning)\n"
          ]
        },
        {
          "output_type": "stream",
          "name": "stdout",
          "text": [
            "Epoch 072: Loss: 66.598, Cpy_avg: 0.833, Val Loss: 66.629, Val Cpy_avg: 0.833\n",
            "INFO:tensorflow:Assets written to: ./saved_models/model4_s_1/assets\n",
            "Epoch loss improved to 66.598. Saving model. \n"
          ]
        },
        {
          "output_type": "stream",
          "name": "stderr",
          "text": [
            "/usr/local/lib/python3.7/dist-packages/keras/utils/generic_utils.py:497: CustomMaskWarning: Custom mask layers require a config and must override get_config. When loading, the custom mask layer must be passed to the custom_objects argument.\n",
            "  category=CustomMaskWarning)\n"
          ]
        },
        {
          "output_type": "stream",
          "name": "stdout",
          "text": [
            "Epoch 073: Loss: 66.188, Cpy_avg: 0.834, Val Loss: 66.642, Val Cpy_avg: 0.833\n",
            "INFO:tensorflow:Assets written to: ./saved_models/model4_s_1/assets\n",
            "Epoch loss improved to 66.188. Saving model. \n"
          ]
        },
        {
          "output_type": "stream",
          "name": "stderr",
          "text": [
            "/usr/local/lib/python3.7/dist-packages/keras/utils/generic_utils.py:497: CustomMaskWarning: Custom mask layers require a config and must override get_config. When loading, the custom mask layer must be passed to the custom_objects argument.\n",
            "  category=CustomMaskWarning)\n"
          ]
        },
        {
          "output_type": "stream",
          "name": "stdout",
          "text": [
            "Epoch 074: Loss: 66.448, Cpy_avg: 0.833, Val Loss: 66.470, Val Cpy_avg: 0.833\n",
            "Epoch 075: Loss: 66.383, Cpy_avg: 0.833, Val Loss: 66.449, Val Cpy_avg: 0.833\n",
            "Epoch 076: Loss: 65.836, Cpy_avg: 0.835, Val Loss: 65.774, Val Cpy_avg: 0.835\n",
            "INFO:tensorflow:Assets written to: ./saved_models/model4_s_1/assets\n",
            "Epoch loss improved to 65.836. Saving model. \n"
          ]
        },
        {
          "output_type": "stream",
          "name": "stderr",
          "text": [
            "/usr/local/lib/python3.7/dist-packages/keras/utils/generic_utils.py:497: CustomMaskWarning: Custom mask layers require a config and must override get_config. When loading, the custom mask layer must be passed to the custom_objects argument.\n",
            "  category=CustomMaskWarning)\n"
          ]
        },
        {
          "output_type": "stream",
          "name": "stdout",
          "text": [
            "Epoch 077: Loss: 65.341, Cpy_avg: 0.836, Val Loss: 65.512, Val Cpy_avg: 0.835\n",
            "INFO:tensorflow:Assets written to: ./saved_models/model4_s_1/assets\n",
            "Epoch loss improved to 65.341. Saving model. \n"
          ]
        },
        {
          "output_type": "stream",
          "name": "stderr",
          "text": [
            "/usr/local/lib/python3.7/dist-packages/keras/utils/generic_utils.py:497: CustomMaskWarning: Custom mask layers require a config and must override get_config. When loading, the custom mask layer must be passed to the custom_objects argument.\n",
            "  category=CustomMaskWarning)\n"
          ]
        },
        {
          "output_type": "stream",
          "name": "stdout",
          "text": [
            "Epoch 078: Loss: 65.357, Cpy_avg: 0.836, Val Loss: 65.751, Val Cpy_avg: 0.835\n",
            "Epoch 079: Loss: 65.079, Cpy_avg: 0.836, Val Loss: 65.687, Val Cpy_avg: 0.835\n",
            "INFO:tensorflow:Assets written to: ./saved_models/model4_s_1/assets\n",
            "Epoch loss improved to 65.079. Saving model. \n"
          ]
        },
        {
          "output_type": "stream",
          "name": "stderr",
          "text": [
            "/usr/local/lib/python3.7/dist-packages/keras/utils/generic_utils.py:497: CustomMaskWarning: Custom mask layers require a config and must override get_config. When loading, the custom mask layer must be passed to the custom_objects argument.\n",
            "  category=CustomMaskWarning)\n"
          ]
        },
        {
          "output_type": "stream",
          "name": "stdout",
          "text": [
            "Epoch 080: Loss: 65.003, Cpy_avg: 0.837, Val Loss: 65.233, Val Cpy_avg: 0.836\n",
            "INFO:tensorflow:Assets written to: ./saved_models/model4_s_1/assets\n",
            "Epoch loss improved to 65.003. Saving model. \n"
          ]
        },
        {
          "output_type": "stream",
          "name": "stderr",
          "text": [
            "/usr/local/lib/python3.7/dist-packages/keras/utils/generic_utils.py:497: CustomMaskWarning: Custom mask layers require a config and must override get_config. When loading, the custom mask layer must be passed to the custom_objects argument.\n",
            "  category=CustomMaskWarning)\n"
          ]
        },
        {
          "output_type": "stream",
          "name": "stdout",
          "text": [
            "Epoch 081: Loss: 65.177, Cpy_avg: 0.836, Val Loss: 66.077, Val Cpy_avg: 0.834\n",
            "Epoch 082: Loss: 65.793, Cpy_avg: 0.835, Val Loss: 65.685, Val Cpy_avg: 0.835\n",
            "Epoch 083: Loss: 64.999, Cpy_avg: 0.837, Val Loss: 64.507, Val Cpy_avg: 0.838\n",
            "INFO:tensorflow:Assets written to: ./saved_models/model4_s_1/assets\n",
            "Epoch loss improved to 64.999. Saving model. \n"
          ]
        },
        {
          "output_type": "stream",
          "name": "stderr",
          "text": [
            "/usr/local/lib/python3.7/dist-packages/keras/utils/generic_utils.py:497: CustomMaskWarning: Custom mask layers require a config and must override get_config. When loading, the custom mask layer must be passed to the custom_objects argument.\n",
            "  category=CustomMaskWarning)\n"
          ]
        },
        {
          "output_type": "stream",
          "name": "stdout",
          "text": [
            "Epoch 084: Loss: 64.313, Cpy_avg: 0.838, Val Loss: 64.438, Val Cpy_avg: 0.838\n",
            "INFO:tensorflow:Assets written to: ./saved_models/model4_s_1/assets\n",
            "Epoch loss improved to 64.313. Saving model. \n"
          ]
        },
        {
          "output_type": "stream",
          "name": "stderr",
          "text": [
            "/usr/local/lib/python3.7/dist-packages/keras/utils/generic_utils.py:497: CustomMaskWarning: Custom mask layers require a config and must override get_config. When loading, the custom mask layer must be passed to the custom_objects argument.\n",
            "  category=CustomMaskWarning)\n"
          ]
        },
        {
          "output_type": "stream",
          "name": "stdout",
          "text": [
            "Epoch 085: Loss: 63.820, Cpy_avg: 0.840, Val Loss: 63.673, Val Cpy_avg: 0.840\n",
            "INFO:tensorflow:Assets written to: ./saved_models/model4_s_1/assets\n",
            "Epoch loss improved to 63.820. Saving model. \n"
          ]
        },
        {
          "output_type": "stream",
          "name": "stderr",
          "text": [
            "/usr/local/lib/python3.7/dist-packages/keras/utils/generic_utils.py:497: CustomMaskWarning: Custom mask layers require a config and must override get_config. When loading, the custom mask layer must be passed to the custom_objects argument.\n",
            "  category=CustomMaskWarning)\n"
          ]
        },
        {
          "output_type": "stream",
          "name": "stdout",
          "text": [
            "Epoch 086: Loss: 63.607, Cpy_avg: 0.840, Val Loss: 63.981, Val Cpy_avg: 0.839\n",
            "INFO:tensorflow:Assets written to: ./saved_models/model4_s_1/assets\n",
            "Epoch loss improved to 63.607. Saving model. \n"
          ]
        },
        {
          "output_type": "stream",
          "name": "stderr",
          "text": [
            "/usr/local/lib/python3.7/dist-packages/keras/utils/generic_utils.py:497: CustomMaskWarning: Custom mask layers require a config and must override get_config. When loading, the custom mask layer must be passed to the custom_objects argument.\n",
            "  category=CustomMaskWarning)\n"
          ]
        },
        {
          "output_type": "stream",
          "name": "stdout",
          "text": [
            "Epoch 087: Loss: 63.586, Cpy_avg: 0.840, Val Loss: 64.452, Val Cpy_avg: 0.838\n",
            "INFO:tensorflow:Assets written to: ./saved_models/model4_s_1/assets\n",
            "Epoch loss improved to 63.586. Saving model. \n"
          ]
        },
        {
          "output_type": "stream",
          "name": "stderr",
          "text": [
            "/usr/local/lib/python3.7/dist-packages/keras/utils/generic_utils.py:497: CustomMaskWarning: Custom mask layers require a config and must override get_config. When loading, the custom mask layer must be passed to the custom_objects argument.\n",
            "  category=CustomMaskWarning)\n"
          ]
        },
        {
          "output_type": "stream",
          "name": "stdout",
          "text": [
            "Epoch 088: Loss: 63.715, Cpy_avg: 0.840, Val Loss: 64.302, Val Cpy_avg: 0.838\n",
            "Epoch 089: Loss: 63.346, Cpy_avg: 0.841, Val Loss: 64.098, Val Cpy_avg: 0.839\n",
            "INFO:tensorflow:Assets written to: ./saved_models/model4_s_1/assets\n",
            "Epoch loss improved to 63.346. Saving model. \n"
          ]
        },
        {
          "output_type": "stream",
          "name": "stderr",
          "text": [
            "/usr/local/lib/python3.7/dist-packages/keras/utils/generic_utils.py:497: CustomMaskWarning: Custom mask layers require a config and must override get_config. When loading, the custom mask layer must be passed to the custom_objects argument.\n",
            "  category=CustomMaskWarning)\n"
          ]
        },
        {
          "output_type": "stream",
          "name": "stdout",
          "text": [
            "Epoch 090: Loss: 63.168, Cpy_avg: 0.841, Val Loss: 64.322, Val Cpy_avg: 0.838\n",
            "INFO:tensorflow:Assets written to: ./saved_models/model4_s_1/assets\n",
            "Epoch loss improved to 63.168. Saving model. \n"
          ]
        },
        {
          "output_type": "stream",
          "name": "stderr",
          "text": [
            "/usr/local/lib/python3.7/dist-packages/keras/utils/generic_utils.py:497: CustomMaskWarning: Custom mask layers require a config and must override get_config. When loading, the custom mask layer must be passed to the custom_objects argument.\n",
            "  category=CustomMaskWarning)\n"
          ]
        },
        {
          "output_type": "stream",
          "name": "stdout",
          "text": [
            "Epoch 091: Loss: 63.271, Cpy_avg: 0.841, Val Loss: 64.045, Val Cpy_avg: 0.839\n",
            "Epoch 092: Loss: 63.199, Cpy_avg: 0.841, Val Loss: 62.730, Val Cpy_avg: 0.842\n",
            "Epoch 093: Loss: 62.666, Cpy_avg: 0.843, Val Loss: 63.124, Val Cpy_avg: 0.841\n",
            "INFO:tensorflow:Assets written to: ./saved_models/model4_s_1/assets\n",
            "Epoch loss improved to 62.666. Saving model. \n"
          ]
        },
        {
          "output_type": "stream",
          "name": "stderr",
          "text": [
            "/usr/local/lib/python3.7/dist-packages/keras/utils/generic_utils.py:497: CustomMaskWarning: Custom mask layers require a config and must override get_config. When loading, the custom mask layer must be passed to the custom_objects argument.\n",
            "  category=CustomMaskWarning)\n"
          ]
        },
        {
          "output_type": "stream",
          "name": "stdout",
          "text": [
            "Epoch 094: Loss: 62.245, Cpy_avg: 0.844, Val Loss: 62.679, Val Cpy_avg: 0.843\n",
            "INFO:tensorflow:Assets written to: ./saved_models/model4_s_1/assets\n",
            "Epoch loss improved to 62.245. Saving model. \n"
          ]
        },
        {
          "output_type": "stream",
          "name": "stderr",
          "text": [
            "/usr/local/lib/python3.7/dist-packages/keras/utils/generic_utils.py:497: CustomMaskWarning: Custom mask layers require a config and must override get_config. When loading, the custom mask layer must be passed to the custom_objects argument.\n",
            "  category=CustomMaskWarning)\n"
          ]
        },
        {
          "output_type": "stream",
          "name": "stdout",
          "text": [
            "Epoch 095: Loss: 61.998, Cpy_avg: 0.844, Val Loss: 63.006, Val Cpy_avg: 0.842\n",
            "INFO:tensorflow:Assets written to: ./saved_models/model4_s_1/assets\n",
            "Epoch loss improved to 61.998. Saving model. \n"
          ]
        },
        {
          "output_type": "stream",
          "name": "stderr",
          "text": [
            "/usr/local/lib/python3.7/dist-packages/keras/utils/generic_utils.py:497: CustomMaskWarning: Custom mask layers require a config and must override get_config. When loading, the custom mask layer must be passed to the custom_objects argument.\n",
            "  category=CustomMaskWarning)\n"
          ]
        },
        {
          "output_type": "stream",
          "name": "stdout",
          "text": [
            "Epoch 096: Loss: 62.340, Cpy_avg: 0.843, Val Loss: 63.616, Val Cpy_avg: 0.840\n",
            "Epoch 097: Loss: 62.692, Cpy_avg: 0.842, Val Loss: 61.918, Val Cpy_avg: 0.844\n",
            "Epoch 098: Loss: 63.014, Cpy_avg: 0.842, Val Loss: 63.710, Val Cpy_avg: 0.840\n",
            "Epoch 099: Loss: 62.597, Cpy_avg: 0.843, Val Loss: 62.226, Val Cpy_avg: 0.844\n",
            "Duration :654.550\n"
          ]
        }
      ]
    },
    {
      "cell_type": "code",
      "metadata": {
        "colab": {
          "base_uri": "https://localhost:8080/",
          "height": 304
        },
        "id": "npnXpY8vuiVj",
        "outputId": "d9145324-8f51-4261-e369-b6b5929f3036"
      },
      "source": [
        "loss, Cpy_avg, Cpy, Tpy = CoherenceLoss(model, train_inputs[7:10,:,:], train_outputs[7:10,:], Opt)\n",
        "\n",
        "print('Training set performance --- Loss: {}, Cpy_avg: {:.3f}'.format(loss, Cpy_avg))\n",
        "\n",
        "PlotCoherence(faxis, np.concatenate((Cyx, Cpy[np.newaxis,:])), Opt['freq_range'], ['Cyx', 'Cpy'])"
      ],
      "execution_count": null,
      "outputs": [
        {
          "output_type": "stream",
          "name": "stdout",
          "text": [
            "Training set performance --- Loss: 59.16747283935547, Cpy_avg: 0.851\n"
          ]
        },
        {
          "output_type": "display_data",
          "data": {
            "image/png": "[encoded data removed]",
            "text/plain": [
              "<Figure size 432x288 with 1 Axes>"
            ]
          },
          "metadata": {
            "needs_background": "light"
          }
        }
      ]
    },
    {
      "cell_type": "code",
      "metadata": {
        "id": "E_ji4CMt3k7Q",
        "colab": {
          "base_uri": "https://localhost:8080/"
        },
        "outputId": "7b80835f-8186-426d-dc6f-0725f807a114"
      },
      "source": [
        "loss.shape"
      ],
      "execution_count": null,
      "outputs": [
        {
          "output_type": "execute_result",
          "data": {
            "text/plain": [
              "TensorShape([])"
            ]
          },
          "metadata": {},
          "execution_count": 15
        }
      ]
    },
    {
      "cell_type": "code",
      "metadata": {
        "id": "hLWNWJAjuuYT",
        "colab": {
          "base_uri": "https://localhost:8080/"
        },
        "outputId": "791a7e3a-3219-47b9-9430-212013b78879"
      },
      "source": [
        "%run './CNNfunctions.py'"
      ],
      "execution_count": null,
      "outputs": [
        {
          "output_type": "display_data",
          "data": {
            "text/plain": [
              "<Figure size 432x288 with 0 Axes>"
            ]
          },
          "metadata": {
            "tags": []
          }
        }
      ]
    },
    {
      "cell_type": "code",
      "metadata": {
        "colab": {
          "base_uri": "https://localhost:8080/",
          "height": 322
        },
        "id": "9xdvpycG0LJG",
        "outputId": "0a48975e-8dae-4a26-a991-f2fcc1d1a2ce"
      },
      "source": [
        "# Run on test data and compare\n",
        "test_inputs, test_outputs = LoadData(Data['test_files'], Data['stem'], Hpar['receptive_field'])\n",
        "\n",
        "test_loss, test_Cpy_avg, test_Cpy, test_Tpy = CoherenceLoss(model, test_inputs[0:3,:,:], test_outputs[0:3,:], Opt)\n",
        "\n",
        "print('Training set performance --- Loss: {:.3f}, Cpy_avg: {:.3f}'.format(loss, Cpy_avg))\n",
        "print('Test set performance ------- Loss: {:.3f}, Cpy_avg: {:.3f}'.format(test_loss, test_Cpy_avg))\n",
        "\n",
        "PlotCoherence(faxis, np.concatenate((Cyx, Cpy[np.newaxis,:], test_Cpy[np.newaxis,:])), np.array([5,200]), ['Cyx', 'Cpy (train)', 'Cpy (test)'])\n"
      ],
      "execution_count": null,
      "outputs": [
        {
          "output_type": "stream",
          "text": [
            "Training set performance --- Loss: 26.563, Cpy_avg: 0.933\n",
            "Test set performance ------- Loss: 26.712, Cpy_avg: 0.933\n"
          ],
          "name": "stdout"
        },
        {
          "output_type": "display_data",
          "data": {
            "image/png": "[encoded data removed]",
            "text/plain": [
              "<Figure size 432x288 with 1 Axes>"
            ]
          },
          "metadata": {
            "tags": [],
            "needs_background": "light"
          }
        }
      ]
    },
    {
      "cell_type": "code",
      "metadata": {
        "colab": {
          "base_uri": "https://localhost:8080/",
          "height": 573
        },
        "id": "ieJCiqree5Ms",
        "outputId": "2e74ac4f-1e05-4cd7-829a-3c39c20a02f7"
      },
      "source": [
        "# Plotting training history\n",
        "train_loss_results, train_Cpy_results = results\n",
        "plt.plot(train_loss_results)\n",
        "plt.xlabel('Epoch')\n",
        "plt.ylabel('Loss')\n",
        "plt.title('Training Loss vs Epoch')\n",
        "plt.ylim([0, 250])\n",
        "plt.show()\n",
        "\n",
        "plt.plot(train_Cpy_results)\n",
        "plt.xlabel('Epoch')\n",
        "plt.ylabel('Cpy')\n",
        "plt.title('Training Cpy vs Epoch')\n",
        "plt.ylim([0, 1])\n",
        "plt.show()"
      ],
      "execution_count": null,
      "outputs": [
        {
          "output_type": "display_data",
          "data": {
            "image/png": "[encoded data removed]",
            "text/plain": [
              "<Figure size 432x288 with 1 Axes>"
            ]
          },
          "metadata": {
            "tags": [],
            "needs_background": "light"
          }
        },
        {
          "output_type": "display_data",
          "data": {
            "image/png": "[encoded data removed]",
            "text/plain": [
              "<Figure size 432x288 with 1 Axes>"
            ]
          },
          "metadata": {
            "tags": [],
            "needs_background": "light"
          }
        }
      ]
    },
    {
      "cell_type": "code",
      "metadata": {
        "id": "8gROjDInnZdU"
      },
      "source": [
        ""
      ],
      "execution_count": null,
      "outputs": []
    }
  ]
}