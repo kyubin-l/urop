{
 "cells": [
  {
   "cell_type": "code",
   "execution_count": 1,
   "id": "d4ed868b",
   "metadata": {},
   "outputs": [
    {
     "data": {
      "text/plain": [
       "<module 'Functions' from '/home/kyubin/UROP/NonLinearSystemAnalysis/Functions.py'>"
      ]
     },
     "execution_count": 1,
     "metadata": {},
     "output_type": "execute_result"
    }
   ],
   "source": [
    "# Importing Libraries\n",
    "import math\n",
    "import numpy as np\n",
    "import matplotlib.pyplot as plt\n",
    "import os\n",
    "import time\n",
    "import Functions as Fc\n",
    "\n",
    "from numba import jit\n",
    "from matplotlib.pyplot import figure\n",
    "from scipy import signal\n",
    "from scipy.integrate import solve_ivp\n",
    "from scipy.interpolate import interp1d\n",
    "from importlib import reload\n",
    "from scipy.fft import fft\n",
    "from numpy import genfromtxt\n",
    "reload(Fc)"
   ]
  },
  {
   "cell_type": "code",
   "execution_count": 2,
   "id": "61d7240f",
   "metadata": {},
   "outputs": [
    {
     "data": {
      "text/plain": [
       "'/home/kyubin/UROP/NonLinearSystemAnalysis'"
      ]
     },
     "execution_count": 2,
     "metadata": {},
     "output_type": "execute_result"
    }
   ],
   "source": [
    "os.getcwd()"
   ]
  },
  {
   "cell_type": "code",
   "execution_count": 3,
   "id": "6a02ecdb",
   "metadata": {},
   "outputs": [
    {
     "name": "stderr",
     "output_type": "stream",
     "text": [
      "/tmp/ipykernel_87/4202349658.py:27: NumbaWarning: \n",
      "Compilation is falling back to object mode WITH looplifting enabled because Function \"fun\" failed type inference due to: Untyped global name 'Ft': Cannot determine Numba type of <class 'scipy.interpolate.interpolate.interp1d'>\n",
      "\n",
      "File \"../../../../tmp/ipykernel_87/4202349658.py\", line 31:\n",
      "<source missing, REPL/exec in use?>\n",
      "\n",
      "  @jit(nopython=False) # Set \"nopython\" mode for best performance, equivalent to @njit\n",
      "/home/kyubin/UROP/NonLinearSystemAnalysis/NonLinearSystemAnalysis_env/lib/python3.8/site-packages/numba/core/object_mode_passes.py:151: NumbaWarning: Function \"fun\" was compiled in object mode without forceobj=True.\n",
      "\n",
      "File \"../../../../tmp/ipykernel_87/4202349658.py\", line 27:\n",
      "<source missing, REPL/exec in use?>\n",
      "\n",
      "  warnings.warn(errors.NumbaWarning(warn_msg,\n",
      "/home/kyubin/UROP/NonLinearSystemAnalysis/NonLinearSystemAnalysis_env/lib/python3.8/site-packages/numba/core/object_mode_passes.py:161: NumbaDeprecationWarning: \n",
      "Fall-back from the nopython compilation path to the object mode compilation path has been detected, this is deprecated behaviour.\n",
      "\n",
      "For more information visit https://numba.pydata.org/numba-doc/latest/reference/deprecation.html#deprecation-of-object-mode-fall-back-behaviour-when-using-jit\n",
      "\n",
      "File \"../../../../tmp/ipykernel_87/4202349658.py\", line 27:\n",
      "<source missing, REPL/exec in use?>\n",
      "\n",
      "  warnings.warn(errors.NumbaDeprecationWarning(msg,\n"
     ]
    },
    {
     "name": "stdout",
     "output_type": "stream",
     "text": [
      "206.3080439567566\n"
     ]
    }
   ],
   "source": [
    "# Simulate Nonlinear System\n",
    "# Duffing oscillator with nonlinear damping\n",
    "# x_ddot + cl*x_dot + cn*xdot^3 + kl*x + kn*x^3 = F\n",
    "# The solve_ivp ODE solver is relatively slow so do not run this section of the code too frequently. Carry out\n",
    "# Simulations in the matlab file. \n",
    "\n",
    "# Equation parameters\n",
    "kl = 2e4\n",
    "kn = 0*1e11\n",
    "cl = 50\n",
    "cn = 0*1e8\n",
    "\n",
    "T = 200\n",
    "dt = 2**-12\n",
    "taxis = np.arange(0, T + dt, dt)\n",
    "taxis = np.reshape(taxis, (len(taxis),))\n",
    "F = 10 * np.random.normal(size=(len(taxis),))\n",
    "\n",
    "# Initial condition\n",
    "x0 = (0, 0)\n",
    "\n",
    "# Simulating system using an ODE solver\n",
    "Ft = interp1d(taxis, F, axis = 0)\n",
    "\n",
    "start = time.time()\n",
    "\n",
    "@jit(nopython=False) # Set \"nopython\" mode for best performance, equivalent to @njit\n",
    "def fun(t, x):\n",
    "    x1, x2 = x\n",
    "    dx1dt = x2\n",
    "    dx2dt = Ft(t) - cl*x2 - cn*x2**3 - kl*x1 - kn*x1**3\n",
    "    return [dx1dt, dx2dt]\n",
    "\n",
    "\n",
    "sol = solve_ivp(fun, (0, T), x0, t_eval=taxis)\n",
    "\n",
    "x = sol.y[0]\n",
    "end = time.time()\n",
    "print(end - start)"
   ]
  },
  {
   "cell_type": "code",
   "execution_count": 5,
   "id": "95de4ec7",
   "metadata": {},
   "outputs": [],
   "source": [
    "data = np.vstack((taxis, F, x))\n",
    "# np.savetxt(\"/mnt/c/Users/admin/Google Drive/urop_copy/duffing_oscillator_data/data.csv\", data)"
   ]
  },
  {
   "cell_type": "code",
   "execution_count": 6,
   "id": "e45bb678",
   "metadata": {},
   "outputs": [],
   "source": [
    "# Method 1: Estimate transfer function and PSDs manually according to Welch averaged periodogram method\n",
    "nfft = 2**13 # Length of FFT\n",
    "\n",
    "# Split F and X in to overlapping frames (50% overlap). Function defined in Functions.py\n",
    "x_frames = Fc.FrameSplit(x, nfft)\n",
    "F_frames = Fc.FrameSplit(F, nfft)\n",
    "\n",
    "# Defining Hanning Window\n",
    "win = np.hanning(nfft)\n",
    "\n",
    "# Applying Hanning windows to frames\n",
    "x_win = np.multiply(x_frames.transpose(), win).transpose()\n",
    "F_win = np.multiply(F_frames.transpose(), win).transpose()\n",
    "\n",
    "# Calculate Fourier transform\n",
    "x_f = fft(x_win, axis = 0) * 2/nfft #  Divide by number of samples to scale amplitude according to the number of samples\n",
    "F_f = fft(F_win, axis = 0) * 2/nfft #  Not entirely sure of the purpose of the 2\n",
    "\n",
    "# RMS value of window:\n",
    "W = math.sqrt(np.sum(win*win)/len(win))\n",
    "\n",
    "# Calculating PSD using definition Syx = E(Y.X*), scaling factor to account for energy (1/w**2) and one sided (*2)\n",
    "Sxx = np.sum(np.multiply(x_f, np.conj(x_f)), 1) / int(x_frames.shape[1]) * 2/W**2\n",
    "Sff = np.sum(np.multiply(F_f, np.conj(F_f)), 1) / int(x_frames.shape[1]) * 2/W**2\n",
    "Sxf = np.sum(np.multiply(x_f, np.conj(F_f)), 1) / int(x_frames.shape[1]) * 2/W**2\n",
    "\n",
    "# Estimating Transfer function and coherence from Cxf and PSDs\n",
    "Txf = Sxf / Sff\n",
    "\n",
    "# Coherence\n",
    "Cxf = np.abs(Sxf)**2/(Sxx * Sff)\n",
    "\n",
    "# Setting the frequency axis using the sampling rate \n",
    "faxis = np.linspace(0, 1/dt, nfft+1)\n",
    "faxis = faxis[0:int(nfft)]"
   ]
  },
  {
   "cell_type": "code",
   "execution_count": 7,
   "id": "6ca4b07c",
   "metadata": {
    "scrolled": true
   },
   "outputs": [
    {
     "name": "stdout",
     "output_type": "stream",
     "text": [
      "Calculating Sxx\n",
      "Calculating Syy\n",
      "Calculating Syx\n",
      "Calculating transfer function and coherence\n"
     ]
    }
   ],
   "source": [
    "f, tyx, cyx, syx, sxx, syy = Fc.tfest(F, x, nfft = nfft, Fs=1/dt)"
   ]
  },
  {
   "cell_type": "code",
   "execution_count": 8,
   "id": "12dbb898",
   "metadata": {},
   "outputs": [],
   "source": [
    "# Analytical solution for linear section\n",
    "Txf_a = 1 / (-(2*np.pi*faxis)**2 + cl*complex(0, 1)*(2*np.pi*faxis) + kl)"
   ]
  },
  {
   "cell_type": "code",
   "execution_count": 9,
   "id": "52720e71",
   "metadata": {
    "scrolled": false
   },
   "outputs": [
    {
     "data": {
      "image/png": "[encoded data removed]",
      "text/plain": [
       "<Figure size 432x288 with 1 Axes>"
      ]
     },
     "metadata": {
      "needs_background": "light"
     },
     "output_type": "display_data"
    },
    {
     "data": {
      "image/png": "[encoded data removed]",
      "text/plain": [
       "<Figure size 432x288 with 1 Axes>"
      ]
     },
     "metadata": {
      "needs_background": "light"
     },
     "output_type": "display_data"
    },
    {
     "data": {
      "image/png": "[encoded data removed]",
      "text/plain": [
       "<Figure size 432x288 with 1 Axes>"
      ]
     },
     "metadata": {
      "needs_background": "light"
     },
     "output_type": "display_data"
    }
   ],
   "source": [
    "# Plotting the different methods\n",
    "\n",
    "Xlim = (1, 1/dt/2)\n",
    "\n",
    "plt.loglog(faxis, np.abs(Txf), label='Method 1 (manual)')\n",
    "plt.semilogx(f, np.abs(tyx[0,0,:]), label='Method 2 (tfest)')\n",
    "plt.semilogx(faxis, np.abs(Txf_a), label='Analytical', c='orange', linestyle='--')\n",
    "plt.xlabel(\"Frequency (Hz)\")\n",
    "plt.ylabel(\"|Txf| (nM-1)\")\n",
    "plt.xlim(Xlim)\n",
    "plt.legend(loc=3)\n",
    "plt.show()\n",
    "\n",
    "plt.semilogx(faxis, np.angle(Txf), label='Method 1 (manual)')\n",
    "plt.semilogx(f, np.angle(tyx[0,0,:]), label='Method 2 (tfest)')\n",
    "plt.semilogx(faxis, np.angle(Txf_a), label='Analytical', c='orange', linestyle='--')\n",
    "plt.xlabel(\"Frequency (Hz)\")\n",
    "plt.ylabel(\"< Txf (rad)\")\n",
    "plt.xlim(Xlim)\n",
    "plt.legend(loc=3)\n",
    "plt.show()\n",
    "\n",
    "plt.semilogx(faxis, abs(Cxf), label='Method 1 (manual)')\n",
    "plt.semilogx(f, cyx[0,0,:], label='Method 2 (tfest)')\n",
    "plt.xlabel(\"Frequency (Hz)\")\n",
    "plt.ylabel(\"Coherence\")\n",
    "plt.xlim(Xlim)\n",
    "plt.legend(loc=3)\n",
    "plt.ylim((0, 1.1))\n",
    "plt.show()"
   ]
  },
  {
   "cell_type": "code",
   "execution_count": 10,
   "id": "7d5638ed",
   "metadata": {},
   "outputs": [],
   "source": [
    "# Tesing multiple coherence with random output noise\n",
    "noise = 10e-2*np.random.normal(size=(len(taxis),))"
   ]
  },
  {
   "cell_type": "code",
   "execution_count": 11,
   "id": "6a1b60ed",
   "metadata": {},
   "outputs": [],
   "source": [
    "F_noise = np.vstack((F, noise)).transpose()\n",
    "x_noise = x + noise"
   ]
  },
  {
   "cell_type": "code",
   "execution_count": 12,
   "id": "7f5ed03f",
   "metadata": {
    "scrolled": true
   },
   "outputs": [
    {
     "name": "stdout",
     "output_type": "stream",
     "text": [
      "Calculating Sxx\n",
      "Calculating Syy\n",
      "Calculating Syx\n",
      "Calculating transfer function and coherence\n"
     ]
    }
   ],
   "source": [
    "f, tyx, mcyx, syx, sxx, syy = Fc.tfest(F_noise, x_noise, nfft = nfft, Fs=1/dt)"
   ]
  },
  {
   "cell_type": "code",
   "execution_count": 13,
   "id": "6280b617",
   "metadata": {
    "scrolled": true
   },
   "outputs": [
    {
     "data": {
      "image/png": "[encoded data removed]",
      "text/plain": [
       "<Figure size 432x288 with 1 Axes>"
      ]
     },
     "metadata": {
      "needs_background": "light"
     },
     "output_type": "display_data"
    }
   ],
   "source": [
    "plt.semilogx(f, mcyx[0,0,:])\n",
    "plt.xlabel(\"Frequency (Hz)\")\n",
    "plt.ylabel(\"Coherence\")\n",
    "plt.xlim(Xlim)\n",
    "plt.ylim((0, 1.1))\n",
    "plt.show()"
   ]
  },
  {
   "cell_type": "code",
   "execution_count": 14,
   "id": "54f8cd55",
   "metadata": {},
   "outputs": [
    {
     "data": {
      "text/plain": [
       "(819201, 2)"
      ]
     },
     "execution_count": 14,
     "metadata": {},
     "output_type": "execute_result"
    }
   ],
   "source": [
    "F_noise.shape"
   ]
  },
  {
   "cell_type": "code",
   "execution_count": 15,
   "id": "54468061",
   "metadata": {},
   "outputs": [
    {
     "data": {
      "text/plain": [
       "(819201,)"
      ]
     },
     "execution_count": 15,
     "metadata": {},
     "output_type": "execute_result"
    }
   ],
   "source": [
    "x_noise.shape"
   ]
  },
  {
   "cell_type": "code",
   "execution_count": null,
   "id": "9fe45c10",
   "metadata": {},
   "outputs": [],
   "source": []
  }
 ],
 "metadata": {
  "kernelspec": {
   "display_name": "Python 3 (ipykernel)",
   "language": "python",
   "name": "python3"
  },
  "language_info": {
   "codemirror_mode": {
    "name": "ipython",
    "version": 3
   },
   "file_extension": ".py",
   "mimetype": "text/x-python",
   "name": "python",
   "nbconvert_exporter": "python",
   "pygments_lexer": "ipython3",
   "version": "3.8.10"
  }
 },
 "nbformat": 4,
 "nbformat_minor": 5
}
